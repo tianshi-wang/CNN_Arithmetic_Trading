{
 "cells": [
  {
   "cell_type": "code",
   "execution_count": 68,
   "metadata": {},
   "outputs": [],
   "source": [
    "import numpy as np\n",
    "import pandas as pd\n",
    "import yfinance as yf"
   ]
  },
  {
   "cell_type": "code",
   "execution_count": 69,
   "metadata": {},
   "outputs": [],
   "source": [
    "# Define original fund, threshold\n",
    "ori_fund = 10000\n",
    "threshold = 0.0200\n",
    "\n",
    "tickers = ['AAPL', 'QQQ', 'AMZN', 'MSFT', 'INTC', 'MARA']\n",
    "\n",
    "# From 2020-11-10 to 2021-04-29, total 117 days\n",
    "start_date = '2020-11-10'\n",
    "end_date = '2021-04-30'\n",
    "\n",
    "general_predict = pd.read_csv('predict_data/general_predict_mix.csv')\n",
    "transfer_predict = pd.read_csv('predict_data/transfer_predict_mix.csv')"
   ]
  },
  {
   "cell_type": "code",
   "execution_count": 70,
   "metadata": {},
   "outputs": [],
   "source": [
    "# Buy at open price and sell at close price in the same day\n",
    "def get_diff(date, data, money):\n",
    "    return money * (data['Close'][date] - data['Open'][date])/data['Open'][date]"
   ]
  },
  {
   "cell_type": "code",
   "execution_count": 71,
   "metadata": {},
   "outputs": [],
   "source": [
    "def get_profit(ticker, fund, predict):\n",
    "    company = predict[ticker]\n",
    "    fina = yf.download(ticker, start=start_date, end=end_date)\n",
    "    for i in range(len(company)):\n",
    "        if company[i] > threshold:\n",
    "            date = fina.index[i].strftime(\"%Y-%m-%d\")\n",
    "            fund +=get_diff(date, fina, fund)\n",
    "    return fund"
   ]
  },
  {
   "cell_type": "code",
   "execution_count": 72,
   "metadata": {
    "scrolled": false
   },
   "outputs": [
    {
     "name": "stdout",
     "output_type": "stream",
     "text": [
      "[*********************100%***********************]  1 of 1 completed\n",
      "[*********************100%***********************]  1 of 1 completed\n",
      "[*********************100%***********************]  1 of 1 completed\n",
      "[*********************100%***********************]  1 of 1 completed\n",
      "[*********************100%***********************]  1 of 1 completed\n",
      "[*********************100%***********************]  1 of 1 completed\n",
      "general predict benefit: -865.4174492571092\n",
      "[*********************100%***********************]  1 of 1 completed\n",
      "[*********************100%***********************]  1 of 1 completed\n",
      "[*********************100%***********************]  1 of 1 completed\n",
      "[*********************100%***********************]  1 of 1 completed\n",
      "[*********************100%***********************]  1 of 1 completed\n",
      "[*********************100%***********************]  1 of 1 completed\n",
      "transfer predict benefit: 1194.5253479733528\n"
     ]
    }
   ],
   "source": [
    "'''\n",
    "Buy and sell in a single day strategy \n",
    "'''\n",
    "total_benefit = 0\n",
    "\n",
    "for ticker in tickers:\n",
    "    fund = ori_fund\n",
    "    total_benefit += get_profit(ticker, fund, general_predict)-ori_fund\n",
    "\n",
    "print('general predict benefit: ' + str(total_benefit))\n",
    "\n",
    "total_benefit = 0\n",
    "\n",
    "for ticker in tickers:\n",
    "    fund = ori_fund\n",
    "    total_benefit += get_profit(ticker, fund, transfer_predict)-ori_fund\n",
    "\n",
    "print('transfer predict benefit: ' + str(total_benefit))"
   ]
  }
 ],
 "metadata": {
  "kernelspec": {
   "display_name": "Python 3",
   "language": "python",
   "name": "python3"
  },
  "language_info": {
   "codemirror_mode": {
    "name": "ipython",
    "version": 3
   },
   "file_extension": ".py",
   "mimetype": "text/x-python",
   "name": "python",
   "nbconvert_exporter": "python",
   "pygments_lexer": "ipython3",
   "version": "3.8.5"
  }
 },
 "nbformat": 4,
 "nbformat_minor": 4
}
